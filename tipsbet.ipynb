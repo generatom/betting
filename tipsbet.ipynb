{
 "cells": [
  {
   "cell_type": "markdown",
   "metadata": {},
   "source": [
    "# Tipsbet Analysis\n"
   ]
  },
  {
   "cell_type": "code",
   "execution_count": 1,
   "metadata": {},
   "outputs": [],
   "source": [
    "from tips import Tips\n",
    "import datetime as dt"
   ]
  },
  {
   "cell_type": "markdown",
   "metadata": {},
   "source": [
    "## Load Data\n",
    "The Tips module loads data all the data between the given start and end dates (both default to today if not given)"
   ]
  },
  {
   "cell_type": "code",
   "execution_count": null,
   "metadata": {},
   "outputs": [
    {
     "name": "stdout",
     "output_type": "stream",
     "text": [
      "Getting data for 2019-07-24 - 2020-04-09\n",
      "Adding 2019-07-24\n",
      "Adding 2019-07-25\n",
      "Adding 2019-07-26\n",
      "Adding 2019-07-27\n",
      "Adding 2019-07-28\n",
      "Adding 2019-07-29\n",
      "Adding 2019-07-30\n",
      "Adding 2019-07-31\n",
      "Adding 2019-08-01\n",
      "Adding 2019-08-02\n",
      "Adding 2019-08-03\n",
      "Adding 2019-08-04\n",
      "Adding 2019-08-05\n",
      "Adding 2019-08-06\n",
      "Adding 2019-08-07\n",
      "Adding 2019-08-08\n",
      "Adding 2019-08-09\n",
      "Adding 2019-08-10\n",
      "Adding 2019-08-11\n",
      "Adding 2019-08-12\n",
      "Adding 2019-08-13\n",
      "Adding 2019-08-14\n",
      "Adding 2019-08-15\n",
      "Adding 2019-08-16\n",
      "Adding 2019-08-17\n",
      "Adding 2019-08-18\n",
      "Adding 2019-08-19\n",
      "Adding 2019-08-20\n",
      "Adding 2019-08-21\n",
      "Adding 2019-08-22\n",
      "Adding 2019-08-23\n",
      "Adding 2019-08-24\n",
      "Adding 2019-08-25\n",
      "Adding 2019-08-26\n",
      "Adding 2019-08-27\n",
      "Adding 2019-08-28\n",
      "Adding 2019-08-29\n",
      "Adding 2019-08-30\n",
      "Adding 2019-08-31\n",
      "Adding 2019-09-01\n",
      "Adding 2019-09-02\n",
      "Adding 2019-09-03\n",
      "Adding 2019-09-04\n",
      "Adding 2019-09-05\n",
      "Adding 2019-09-06\n",
      "Adding 2019-09-07\n",
      "Adding 2019-09-08\n",
      "Adding 2019-09-09\n",
      "Adding 2019-09-10\n",
      "Adding 2019-09-11\n",
      "Adding 2019-09-12\n",
      "Adding 2019-09-13\n",
      "Adding 2019-09-14\n",
      "Adding 2019-09-15\n",
      "Adding 2019-09-16\n",
      "Adding 2019-09-17\n",
      "Adding 2019-09-18\n",
      "Adding 2019-09-19\n",
      "Adding 2019-09-20\n",
      "Adding 2019-09-21\n",
      "Adding 2019-09-22\n",
      "Adding 2019-09-23\n",
      "Adding 2019-09-24\n",
      "Adding 2019-09-25\n",
      "Adding 2019-09-26\n",
      "Adding 2019-09-27\n",
      "Adding 2019-09-28\n",
      "Adding 2019-09-29\n",
      "Adding 2019-09-30\n",
      "Adding 2019-10-01\n",
      "Adding 2019-10-02\n",
      "Adding 2019-10-03\n",
      "Adding 2019-10-04\n",
      "Adding 2019-10-05\n",
      "Adding 2019-10-06\n",
      "Adding 2019-10-07\n",
      "Adding 2019-10-08\n",
      "Adding 2019-10-09\n",
      "Adding 2019-10-10\n",
      "Adding 2019-10-11\n",
      "Adding 2019-10-12\n",
      "Adding 2019-10-13\n",
      "Adding 2019-10-14\n",
      "Adding 2019-10-15\n",
      "Adding 2019-10-16\n",
      "Adding 2019-10-17\n",
      "Adding 2019-10-18\n",
      "Adding 2019-10-19\n",
      "Adding 2019-10-20\n",
      "Adding 2019-10-21\n",
      "Adding 2019-10-22\n",
      "Adding 2019-10-23\n"
     ]
    }
   ],
   "source": [
    "start = dt.datetime.now() - dt.timedelta(days=365)\n",
    "end = dt.datetime(2020, 4, 6) # - dt.timedelta(days=4)\n",
    "t = Tips(start, end, verbosity=2)\n",
    "t.df"
   ]
  },
  {
   "cell_type": "code",
   "execution_count": null,
   "metadata": {},
   "outputs": [],
   "source": [
    "t.df.Status.value_counts(normalize=True)"
   ]
  }
 ],
 "metadata": {
  "kernelspec": {
   "display_name": "Python 3",
   "language": "python",
   "name": "python3"
  },
  "language_info": {
   "codemirror_mode": {
    "name": "ipython",
    "version": 3
   },
   "file_extension": ".py",
   "mimetype": "text/x-python",
   "name": "python",
   "nbconvert_exporter": "python",
   "pygments_lexer": "ipython3",
   "version": "3.6.9"
  }
 },
 "nbformat": 4,
 "nbformat_minor": 2
}
