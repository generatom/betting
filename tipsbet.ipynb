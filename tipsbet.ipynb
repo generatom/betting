{
 "cells": [
  {
   "cell_type": "markdown",
   "metadata": {},
   "source": [
    "# Tipsbet Analysis\n"
   ]
  },
  {
   "cell_type": "markdown",
   "metadata": {},
   "source": [
    "## Initialisation"
   ]
  },
  {
   "cell_type": "code",
   "execution_count": 129,
   "metadata": {},
   "outputs": [],
   "source": [
    "from tips import Tips\n",
    "import datetime as dt\n",
    "import pandas as pd\n",
    "import numpy as np\n",
    "from matplotlib import pyplot as plt"
   ]
  },
  {
   "cell_type": "code",
   "execution_count": 139,
   "metadata": {},
   "outputs": [
    {
     "data": {
      "text/plain": [
       "['Solarize_Light2',\n",
       " '_classic_test_patch',\n",
       " 'bmh',\n",
       " 'classic',\n",
       " 'dark_background',\n",
       " 'fast',\n",
       " 'fivethirtyeight',\n",
       " 'ggplot',\n",
       " 'grayscale',\n",
       " 'seaborn',\n",
       " 'seaborn-bright',\n",
       " 'seaborn-colorblind',\n",
       " 'seaborn-dark',\n",
       " 'seaborn-dark-palette',\n",
       " 'seaborn-darkgrid',\n",
       " 'seaborn-deep',\n",
       " 'seaborn-muted',\n",
       " 'seaborn-notebook',\n",
       " 'seaborn-paper',\n",
       " 'seaborn-pastel',\n",
       " 'seaborn-poster',\n",
       " 'seaborn-talk',\n",
       " 'seaborn-ticks',\n",
       " 'seaborn-white',\n",
       " 'seaborn-whitegrid',\n",
       " 'tableau-colorblind10']"
      ]
     },
     "execution_count": 139,
     "metadata": {},
     "output_type": "execute_result"
    }
   ],
   "source": [
    "plt.style.use('seaborn-bright')\n",
    "plt.style.available"
   ]
  },
  {
   "cell_type": "markdown",
   "metadata": {},
   "source": [
    "## Load Data\n",
    "The Tips module loads data all the data between the given start and end dates (both default to today if not given)"
   ]
  },
  {
   "cell_type": "code",
   "execution_count": 34,
   "metadata": {},
   "outputs": [
    {
     "data": {
      "text/plain": [
       "Timestamp('2017-10-27 12:30:00.756813')"
      ]
     },
     "execution_count": 34,
     "metadata": {},
     "output_type": "execute_result"
    }
   ],
   "source": [
    "start = dt.datetime.now() - dt.timedelta(days=1000)\n",
    "t = Tips(start)\n",
    "t.df.Time.min()"
   ]
  },
  {
   "cell_type": "markdown",
   "metadata": {},
   "source": [
    "## Analysis"
   ]
  },
  {
   "cell_type": "code",
   "execution_count": 36,
   "metadata": {},
   "outputs": [
    {
     "name": "stdout",
     "output_type": "stream",
     "text": [
      "2017-10-27 - 2020-07-23\n",
      " W    9385\n",
      " L    3437\n",
      " ?      17\n",
      "\n",
      " W    73.10\n",
      " L    26.77\n",
      " ?     0.13\n"
     ]
    }
   ],
   "source": [
    "print(t.df.Time.dt.date.min(), '-', t.df.Time.dt.date.max())\n",
    "print(t.df.Status.value_counts().to_string() + '\\n')\n",
    "print((t.df.Status.value_counts(normalize=True).round(4) * 100).to_string())"
   ]
  },
  {
   "cell_type": "code",
   "execution_count": 41,
   "metadata": {},
   "outputs": [
    {
     "name": "stdout",
     "output_type": "stream",
     "text": [
      "Sport       Status\n",
      "Basketball   W         526\n",
      "             L         224\n",
      "             ?           2\n",
      "Football     W        8011\n",
      "             L        2865\n",
      "             ?          14\n",
      "Tennis       W         848\n",
      "             L         348\n",
      "             ?           1\n",
      "Sport       Status\n",
      "Basketball   W        69.95\n",
      "             L        29.79\n",
      "             ?         0.27\n",
      "Football     W        73.56\n",
      "             L        26.31\n",
      "             ?         0.13\n",
      "Tennis       W        70.84\n",
      "             L        29.07\n",
      "             ?         0.08\n"
     ]
    }
   ],
   "source": [
    "print(t.df.groupby('Sport').Status.value_counts().to_string())\n",
    "print((t.df.groupby('Sport').Status.value_counts(normalize=True).round(4) * 100).to_string())"
   ]
  },
  {
   "cell_type": "code",
   "execution_count": 48,
   "metadata": {},
   "outputs": [
    {
     "data": {
      "text/plain": [
       " W    78.19\n",
       " L    21.72\n",
       " ?     0.09\n",
       "Name: Status, dtype: float64"
      ]
     },
     "execution_count": 48,
     "metadata": {},
     "output_type": "execute_result"
    }
   ],
   "source": [
    "t.df[t.df.Odds <= 1.3].Status.value_counts(normalize=True).round(4) * 100"
   ]
  },
  {
   "cell_type": "markdown",
   "metadata": {},
   "source": [
    "### Plotting\n",
    "Plot a bar chart of the results for a particular column"
   ]
  },
  {
   "cell_type": "code",
   "execution_count": 147,
   "metadata": {
    "scrolled": false
   },
   "outputs": [],
   "source": [
    "def plot_status(by='Sport'):\n",
    "    summary = t.df[[by, 'Status']]\n",
    "    order = ['W', 'L', '?']\n",
    "\n",
    "    sm = summary.groupby([by, 'Status']).size().unstack().fillna(0)\n",
    "    # sm.columns = \n",
    "\n",
    "    sm.columns = pd.CategoricalIndex(np.vectorize(str.strip)(sm.columns.values), ordered=True)\n",
    "    sm.columns = sm.columns.reorder_categories(new_categories=order)\n",
    "    sm = sm.sort_index(axis=1)\n",
    "\n",
    "    sm.plot(kind='bar', stacked=True, figsize=(14, 10))\n",
    "# t.df.plot.bar(x='Odds',y='Status')"
   ]
  },
  {
   "cell_type": "code",
   "execution_count": 151,
   "metadata": {},
   "outputs": [
    {
     "data": {
      "image/png": "[encoded data removed]",
      "text/plain": [
       "<Figure size 1008x720 with 1 Axes>"
      ]
     },
     "metadata": {},
     "output_type": "display_data"
    }
   ],
   "source": [
    "plot_status()"
   ]
  },
  {
   "cell_type": "code",
   "execution_count": 152,
   "metadata": {},
   "outputs": [
    {
     "data": {
      "text/plain": [
       "<matplotlib.axes._subplots.AxesSubplot at 0x7f3932be9518>"
      ]
     },
     "execution_count": 152,
     "metadata": {},
     "output_type": "execute_result"
    },
    {
     "data": {
      "image/png": "[encoded data removed]",
      "text/plain": [
       "<Figure size 432x288 with 1 Axes>"
      ]
     },
     "metadata": {},
     "output_type": "display_data"
    }
   ],
   "source": [
    "t.df.Status.value_counts().plot(kind='barh')"
   ]
  }
 ],
 "metadata": {
  "kernelspec": {
   "display_name": "Python 3",
   "language": "python",
   "name": "python3"
  },
  "language_info": {
   "codemirror_mode": {
    "name": "ipython",
    "version": 3
   },
   "file_extension": ".py",
   "mimetype": "text/x-python",
   "name": "python",
   "nbconvert_exporter": "python",
   "pygments_lexer": "ipython3",
   "version": "3.6.9"
  }
 },
 "nbformat": 4,
 "nbformat_minor": 2
}
