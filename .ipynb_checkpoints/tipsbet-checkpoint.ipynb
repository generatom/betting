{
 "cells": [
  {
   "cell_type": "markdown",
   "metadata": {},
   "source": [
    "# Tipsbet Analysis\n"
   ]
  },
  {
   "cell_type": "markdown",
   "metadata": {},
   "source": [
    "## Initialisation"
   ]
  },
  {
   "cell_type": "code",
   "execution_count": 1,
   "metadata": {},
   "outputs": [],
   "source": [
    "from tips import Tips\n",
    "import datetime as dt\n",
    "import pandas as pd\n",
    "import numpy as np\n",
    "from matplotlib import pyplot as plt"
   ]
  },
  {
   "cell_type": "code",
   "execution_count": 15,
   "metadata": {},
   "outputs": [],
   "source": [
    "plt.style.use('dark_background')\n",
    "plt.style.use('seaborn-bright')"
   ]
  },
  {
   "cell_type": "markdown",
   "metadata": {},
   "source": [
    "## Load Data\n",
    "The Tips module loads data all the data between the given start and end dates (both default to today if not given)"
   ]
  },
  {
   "cell_type": "code",
   "execution_count": 10,
   "metadata": {},
   "outputs": [
    {
     "data": {
      "text/plain": [
       "Timestamp('2017-10-27 12:30:00.756813')"
      ]
     },
     "execution_count": 10,
     "metadata": {},
     "output_type": "execute_result"
    }
   ],
   "source": [
    "start = dt.datetime.now() - dt.timedelta(days=1000)\n",
    "t = Tips(start)\n",
    "t.full_dataset.Time.min()"
   ]
  },
  {
   "cell_type": "markdown",
   "metadata": {},
   "source": [
    "## Analysis"
   ]
  },
  {
   "cell_type": "code",
   "execution_count": 4,
   "metadata": {},
   "outputs": [
    {
     "name": "stdout",
     "output_type": "stream",
     "text": [
      "2017-10-28 - 2020-07-24\n",
      " W    9363\n",
      " L    3431\n",
      " ?      32\n",
      "\n",
      " W    73.00\n",
      " L    26.75\n",
      " ?     0.25\n"
     ]
    }
   ],
   "source": [
    "print(t.df.Time.dt.date.min(), '-', t.df.Time.dt.date.max())\n",
    "print(t.df.Status.value_counts().to_string() + '\\n')\n",
    "print((t.df.Status.value_counts(normalize=True).round(4) * 100).to_string())"
   ]
  },
  {
   "cell_type": "code",
   "execution_count": 5,
   "metadata": {},
   "outputs": [
    {
     "name": "stdout",
     "output_type": "stream",
     "text": [
      "Sport       Status\n",
      "Basketball   W         525\n",
      "             L         223\n",
      "             ?           3\n",
      "Football     W        7990\n",
      "             L        2862\n",
      "             ?          27\n",
      "Tennis       W         848\n",
      "             L         346\n",
      "             ?           2\n",
      "Sport       Status\n",
      "Basketball   W        69.91\n",
      "             L        29.69\n",
      "             ?         0.40\n",
      "Football     W        73.44\n",
      "             L        26.31\n",
      "             ?         0.25\n",
      "Tennis       W        70.90\n",
      "             L        28.93\n",
      "             ?         0.17\n"
     ]
    }
   ],
   "source": [
    "print(t.df.groupby('Sport').Status.value_counts().to_string())\n",
    "print((t.df.groupby('Sport').Status.value_counts(normalize=True).round(4) * 100).to_string())"
   ]
  },
  {
   "cell_type": "code",
   "execution_count": 59,
   "metadata": {},
   "outputs": [
    {
     "name": "stdout",
     "output_type": "stream",
     "text": [
      "Index(['Time', 'Country', 'Sport', 'Competitions', 'Teams', 'Tip', 'Odds',\n",
      "       'Results', 'Status'],\n",
      "      dtype='object')\n"
     ]
    }
   ],
   "source": [
    "t.df[t.df.Odds <= 1.3].Status.value_counts(normalize=True).round(4) * 100\n",
    "print(t.df.columns)"
   ]
  },
  {
   "cell_type": "markdown",
   "metadata": {},
   "source": [
    "### Plotting\n",
    "Plot a bar chart of the results for a particular column"
   ]
  },
  {
   "cell_type": "code",
   "execution_count": 103,
   "metadata": {
    "scrolled": false
   },
   "outputs": [],
   "source": [
    "def plot_status(by='Sport', relative=True):\n",
    "    summary = t.df[[by, 'Status']]\n",
    "    order = ['W', 'L', '?']\n",
    "\n",
    "    sm = summary.groupby([by, 'Status'], as_index=False).size().unstack().fillna(0)\n",
    "    if relative:\n",
    "        sm['Total'] = sm.sum(axis=1)\n",
    "        sm = sm.drop('Total', axis=1).div(sm.Total, axis=0) * 100\n",
    "        f_string = '{:.2f}%'\n",
    "    else:\n",
    "        f_string = '{:.0f}'\n",
    "\n",
    "    sm.columns = pd.CategoricalIndex(np.vectorize(str.strip)(sm.columns.values), ordered=True)\n",
    "    sm.columns = sm.columns.reorder_categories(new_categories=order)\n",
    "    sm = sm.sort_index(axis=1)\n",
    "    # sm['Total'] = sm['W'] + sm['L'] + sm['?']\n",
    "    \n",
    "    ax = sm.plot(kind='bar', stacked=True, figsize=(14, 10))\n",
    "    for p in ax.patches:\n",
    "        width, height = p.get_width(), p.get_height()\n",
    "        x, y = p.get_xy()\n",
    "        ax.text(x + width / 2.0, y + height / 2.0, f_string.format(height), horizontalalignment='center',\n",
    "               verticalalignment='center')"
   ]
  },
  {
   "cell_type": "code",
   "execution_count": 105,
   "metadata": {
    "scrolled": false
   },
   "outputs": [
    {
     "data": {
      "image/png": "[encoded data removed]",
      "text/plain": [
       "<Figure size 1008x720 with 1 Axes>"
      ]
     },
     "metadata": {},
     "output_type": "display_data"
    }
   ],
   "source": [
    "plot_status(relative=False)"
   ]
  },
  {
   "cell_type": "code",
   "execution_count": 9,
   "metadata": {},
   "outputs": [
    {
     "data": {
      "text/plain": [
       "<matplotlib.axes._subplots.AxesSubplot at 0x7f54dcc27b38>"
      ]
     },
     "execution_count": 9,
     "metadata": {},
     "output_type": "execute_result"
    },
    {
     "data": {
      "image/png": "[encoded data removed]",
      "text/plain": [
       "<Figure size 432x288 with 1 Axes>"
      ]
     },
     "metadata": {
      "needs_background": "light"
     },
     "output_type": "display_data"
    }
   ],
   "source": [
    "t.df.Status.value_counts().plot(kind='barh')"
   ]
  }
 ],
 "metadata": {
  "kernelspec": {
   "display_name": "Python 3",
   "language": "python",
   "name": "python3"
  },
  "language_info": {
   "codemirror_mode": {
    "name": "ipython",
    "version": 3
   },
   "file_extension": ".py",
   "mimetype": "text/x-python",
   "name": "python",
   "nbconvert_exporter": "python",
   "pygments_lexer": "ipython3",
   "version": "3.6.9"
  }
 },
 "nbformat": 4,
 "nbformat_minor": 2
}
